{
  "nbformat": 4,
  "nbformat_minor": 0,
  "metadata": {
    "colab": {
      "provenance": [],
      "include_colab_link": true
    },
    "kernelspec": {
      "name": "python3",
      "display_name": "Python 3"
    },
    "language_info": {
      "name": "python"
    },
    "accelerator": "GPU",
    "gpuClass": "standard"
  },
  "cells": [
    {
      "cell_type": "markdown",
      "metadata": {
        "id": "view-in-github",
        "colab_type": "text"
      },
      "source": [
        "<a href=\"https://colab.research.google.com/github/ydduri/Biology/blob/main/%EB%94%A5%EB%9F%AC%EB%8B%9D_6%EC%A3%BC%EC%B0%A8_%EC%8B%A4%EC%8A%B5.ipynb\" target=\"_parent\"><img src=\"https://colab.research.google.com/assets/colab-badge.svg\" alt=\"Open In Colab\"/></a>"
      ]
    },
    {
      "cell_type": "markdown",
      "source": [
        "# Cancer Diagnosis with Deep learning"
      ],
      "metadata": {
        "id": "HjPgUaXmTf-2"
      }
    },
    {
      "cell_type": "markdown",
      "metadata": {
        "id": "tO0Pa6vF6zX6"
      },
      "source": [
        "### 1. 먼저 구글 드라이브에 마운트합니다.\n",
        "구글 드라이브에 저장되어 있는 정보를 불러올 수 있습니다. 실행시키면 pop되는 링크에 들어가서 데이터를 넣은 구글 계정을 선택한 후에. Token을 복사해서 아래 네모칸에 붙여넣으면 됩니다. "
      ]
    },
    {
      "cell_type": "code",
      "metadata": {
        "colab": {
          "base_uri": "https://localhost:8080/"
        },
        "id": "rrbchNbG1Je4",
        "outputId": "0a18e56f-e63c-47fb-9bff-40098ba4b873"
      },
      "source": [
        "from google.colab import drive\n",
        "drive.mount('/content/drive')"
      ],
      "execution_count": 1,
      "outputs": [
        {
          "output_type": "stream",
          "name": "stdout",
          "text": [
            "Mounted at /content/drive\n"
          ]
        }
      ]
    },
    {
      "cell_type": "markdown",
      "metadata": {
        "id": "S6TAW_Pk7B22"
      },
      "source": [
        "### 2. 필요한 python library들을 import합니다. \n",
        "기본적인 numpy, pandas부터 딥러닝 특화 라이브러리인 tensorflow, 단순 머신러닝 특화 라이브러리인 scikit-learn까지 import합니다. 우리는 사진 정보를 다루므로, 시각화를 할 수 있는 matplotlib의 pyplot 모듈 또한 import합니다. "
      ]
    },
    {
      "cell_type": "code",
      "metadata": {
        "id": "w4wuBdKu3z32"
      },
      "source": [
        "import numpy as np\n",
        "import pandas as pd\n",
        "import os\n",
        "import tensorflow as tf\n",
        "import sklearn\n",
        "import matplotlib.pyplot as plt"
      ],
      "execution_count": 2,
      "outputs": []
    },
    {
      "cell_type": "markdown",
      "metadata": {
        "id": "nNJFg28J7a4t"
      },
      "source": [
        "### 3. 데이터 로딩과 EDA(Exploratory Data Analysis)\n",
        "데이터를 pandas의 read_csv 매서드를 이용해 불러오고, pandas 내장 API들을 이용해 이리저리 탐험(EDA)합니다. 딥러닝을 본격적으로 시작하기 전에 이러한 EDA를 통해 데이터의 구조를 파악하면 신경망을 쌓을 때 참고할 수 있고, 적합한 pre-processing 과정을 진행할 수 있습니다. 머신러닝/딥러닝 전 EDA는 선택이 아닌 필수입니다. "
      ]
    },
    {
      "cell_type": "code",
      "metadata": {
        "colab": {
          "base_uri": "https://localhost:8080/",
          "height": 300
        },
        "id": "KbKwQZfD6NqC",
        "outputId": "5f03f30a-3e79-44dd-a5e3-84792e390b85"
      },
      "source": [
        "# 데이터를 불러옵니다. \n",
        "data = pd.read_csv('/content/drive/MyDrive/skin/hmnist_28_28_RGB.csv')\n",
        "\n",
        "# 데이터의 가장 앞 5줄을 출력합니다. 뒤엣부분을 출력하고 싶으면 data.tail()을 입력하면 됩니다. \n",
        "data.head()"
      ],
      "execution_count": 5,
      "outputs": [
        {
          "output_type": "execute_result",
          "data": {
            "text/plain": [
              "   pixel0000  pixel0001  pixel0002  pixel0003  pixel0004  pixel0005  \\\n",
              "0        192        153        193        195        155        192   \n",
              "1         25         14         30         68         48         75   \n",
              "2        192        138        153        200        145        163   \n",
              "3         38         19         30         95         59         72   \n",
              "4        158        113        139        194        144        174   \n",
              "\n",
              "   pixel0006  pixel0007  pixel0008  pixel0009  ...  pixel2343  pixel2344  \\\n",
              "0        197        154        185        202  ...        173        124   \n",
              "1        123         93        126        158  ...         60         39   \n",
              "2        201        142        160        206  ...        167        129   \n",
              "3        143        103        119        171  ...         44         26   \n",
              "4        215        162        191        225  ...        209        166   \n",
              "\n",
              "   pixel2345  pixel2346  pixel2347  pixel2348  pixel2349  pixel2350  \\\n",
              "0        138        183        147        166        185        154   \n",
              "1         55         25         14         28         25         14   \n",
              "2        143        159        124        142        136        104   \n",
              "3         36         25         12         17         25         12   \n",
              "4        185        172        135        149        109         78   \n",
              "\n",
              "   pixel2351  label  \n",
              "0        177      2  \n",
              "1         27      2  \n",
              "2        117      2  \n",
              "3         15      2  \n",
              "4         92      2  \n",
              "\n",
              "[5 rows x 2353 columns]"
            ],
            "text/html": [
              "\n",
              "  <div id=\"df-0ddb6f6d-3c39-4e22-ba13-4e227cc34196\">\n",
              "    <div class=\"colab-df-container\">\n",
              "      <div>\n",
              "<style scoped>\n",
              "    .dataframe tbody tr th:only-of-type {\n",
              "        vertical-align: middle;\n",
              "    }\n",
              "\n",
              "    .dataframe tbody tr th {\n",
              "        vertical-align: top;\n",
              "    }\n",
              "\n",
              "    .dataframe thead th {\n",
              "        text-align: right;\n",
              "    }\n",
              "</style>\n",
              "<table border=\"1\" class=\"dataframe\">\n",
              "  <thead>\n",
              "    <tr style=\"text-align: right;\">\n",
              "      <th></th>\n",
              "      <th>pixel0000</th>\n",
              "      <th>pixel0001</th>\n",
              "      <th>pixel0002</th>\n",
              "      <th>pixel0003</th>\n",
              "      <th>pixel0004</th>\n",
              "      <th>pixel0005</th>\n",
              "      <th>pixel0006</th>\n",
              "      <th>pixel0007</th>\n",
              "      <th>pixel0008</th>\n",
              "      <th>pixel0009</th>\n",
              "      <th>...</th>\n",
              "      <th>pixel2343</th>\n",
              "      <th>pixel2344</th>\n",
              "      <th>pixel2345</th>\n",
              "      <th>pixel2346</th>\n",
              "      <th>pixel2347</th>\n",
              "      <th>pixel2348</th>\n",
              "      <th>pixel2349</th>\n",
              "      <th>pixel2350</th>\n",
              "      <th>pixel2351</th>\n",
              "      <th>label</th>\n",
              "    </tr>\n",
              "  </thead>\n",
              "  <tbody>\n",
              "    <tr>\n",
              "      <th>0</th>\n",
              "      <td>192</td>\n",
              "      <td>153</td>\n",
              "      <td>193</td>\n",
              "      <td>195</td>\n",
              "      <td>155</td>\n",
              "      <td>192</td>\n",
              "      <td>197</td>\n",
              "      <td>154</td>\n",
              "      <td>185</td>\n",
              "      <td>202</td>\n",
              "      <td>...</td>\n",
              "      <td>173</td>\n",
              "      <td>124</td>\n",
              "      <td>138</td>\n",
              "      <td>183</td>\n",
              "      <td>147</td>\n",
              "      <td>166</td>\n",
              "      <td>185</td>\n",
              "      <td>154</td>\n",
              "      <td>177</td>\n",
              "      <td>2</td>\n",
              "    </tr>\n",
              "    <tr>\n",
              "      <th>1</th>\n",
              "      <td>25</td>\n",
              "      <td>14</td>\n",
              "      <td>30</td>\n",
              "      <td>68</td>\n",
              "      <td>48</td>\n",
              "      <td>75</td>\n",
              "      <td>123</td>\n",
              "      <td>93</td>\n",
              "      <td>126</td>\n",
              "      <td>158</td>\n",
              "      <td>...</td>\n",
              "      <td>60</td>\n",
              "      <td>39</td>\n",
              "      <td>55</td>\n",
              "      <td>25</td>\n",
              "      <td>14</td>\n",
              "      <td>28</td>\n",
              "      <td>25</td>\n",
              "      <td>14</td>\n",
              "      <td>27</td>\n",
              "      <td>2</td>\n",
              "    </tr>\n",
              "    <tr>\n",
              "      <th>2</th>\n",
              "      <td>192</td>\n",
              "      <td>138</td>\n",
              "      <td>153</td>\n",
              "      <td>200</td>\n",
              "      <td>145</td>\n",
              "      <td>163</td>\n",
              "      <td>201</td>\n",
              "      <td>142</td>\n",
              "      <td>160</td>\n",
              "      <td>206</td>\n",
              "      <td>...</td>\n",
              "      <td>167</td>\n",
              "      <td>129</td>\n",
              "      <td>143</td>\n",
              "      <td>159</td>\n",
              "      <td>124</td>\n",
              "      <td>142</td>\n",
              "      <td>136</td>\n",
              "      <td>104</td>\n",
              "      <td>117</td>\n",
              "      <td>2</td>\n",
              "    </tr>\n",
              "    <tr>\n",
              "      <th>3</th>\n",
              "      <td>38</td>\n",
              "      <td>19</td>\n",
              "      <td>30</td>\n",
              "      <td>95</td>\n",
              "      <td>59</td>\n",
              "      <td>72</td>\n",
              "      <td>143</td>\n",
              "      <td>103</td>\n",
              "      <td>119</td>\n",
              "      <td>171</td>\n",
              "      <td>...</td>\n",
              "      <td>44</td>\n",
              "      <td>26</td>\n",
              "      <td>36</td>\n",
              "      <td>25</td>\n",
              "      <td>12</td>\n",
              "      <td>17</td>\n",
              "      <td>25</td>\n",
              "      <td>12</td>\n",
              "      <td>15</td>\n",
              "      <td>2</td>\n",
              "    </tr>\n",
              "    <tr>\n",
              "      <th>4</th>\n",
              "      <td>158</td>\n",
              "      <td>113</td>\n",
              "      <td>139</td>\n",
              "      <td>194</td>\n",
              "      <td>144</td>\n",
              "      <td>174</td>\n",
              "      <td>215</td>\n",
              "      <td>162</td>\n",
              "      <td>191</td>\n",
              "      <td>225</td>\n",
              "      <td>...</td>\n",
              "      <td>209</td>\n",
              "      <td>166</td>\n",
              "      <td>185</td>\n",
              "      <td>172</td>\n",
              "      <td>135</td>\n",
              "      <td>149</td>\n",
              "      <td>109</td>\n",
              "      <td>78</td>\n",
              "      <td>92</td>\n",
              "      <td>2</td>\n",
              "    </tr>\n",
              "  </tbody>\n",
              "</table>\n",
              "<p>5 rows × 2353 columns</p>\n",
              "</div>\n",
              "      <button class=\"colab-df-convert\" onclick=\"convertToInteractive('df-0ddb6f6d-3c39-4e22-ba13-4e227cc34196')\"\n",
              "              title=\"Convert this dataframe to an interactive table.\"\n",
              "              style=\"display:none;\">\n",
              "        \n",
              "  <svg xmlns=\"http://www.w3.org/2000/svg\" height=\"24px\"viewBox=\"0 0 24 24\"\n",
              "       width=\"24px\">\n",
              "    <path d=\"M0 0h24v24H0V0z\" fill=\"none\"/>\n",
              "    <path d=\"M18.56 5.44l.94 2.06.94-2.06 2.06-.94-2.06-.94-.94-2.06-.94 2.06-2.06.94zm-11 1L8.5 8.5l.94-2.06 2.06-.94-2.06-.94L8.5 2.5l-.94 2.06-2.06.94zm10 10l.94 2.06.94-2.06 2.06-.94-2.06-.94-.94-2.06-.94 2.06-2.06.94z\"/><path d=\"M17.41 7.96l-1.37-1.37c-.4-.4-.92-.59-1.43-.59-.52 0-1.04.2-1.43.59L10.3 9.45l-7.72 7.72c-.78.78-.78 2.05 0 2.83L4 21.41c.39.39.9.59 1.41.59.51 0 1.02-.2 1.41-.59l7.78-7.78 2.81-2.81c.8-.78.8-2.07 0-2.86zM5.41 20L4 18.59l7.72-7.72 1.47 1.35L5.41 20z\"/>\n",
              "  </svg>\n",
              "      </button>\n",
              "      \n",
              "  <style>\n",
              "    .colab-df-container {\n",
              "      display:flex;\n",
              "      flex-wrap:wrap;\n",
              "      gap: 12px;\n",
              "    }\n",
              "\n",
              "    .colab-df-convert {\n",
              "      background-color: #E8F0FE;\n",
              "      border: none;\n",
              "      border-radius: 50%;\n",
              "      cursor: pointer;\n",
              "      display: none;\n",
              "      fill: #1967D2;\n",
              "      height: 32px;\n",
              "      padding: 0 0 0 0;\n",
              "      width: 32px;\n",
              "    }\n",
              "\n",
              "    .colab-df-convert:hover {\n",
              "      background-color: #E2EBFA;\n",
              "      box-shadow: 0px 1px 2px rgba(60, 64, 67, 0.3), 0px 1px 3px 1px rgba(60, 64, 67, 0.15);\n",
              "      fill: #174EA6;\n",
              "    }\n",
              "\n",
              "    [theme=dark] .colab-df-convert {\n",
              "      background-color: #3B4455;\n",
              "      fill: #D2E3FC;\n",
              "    }\n",
              "\n",
              "    [theme=dark] .colab-df-convert:hover {\n",
              "      background-color: #434B5C;\n",
              "      box-shadow: 0px 1px 3px 1px rgba(0, 0, 0, 0.15);\n",
              "      filter: drop-shadow(0px 1px 2px rgba(0, 0, 0, 0.3));\n",
              "      fill: #FFFFFF;\n",
              "    }\n",
              "  </style>\n",
              "\n",
              "      <script>\n",
              "        const buttonEl =\n",
              "          document.querySelector('#df-0ddb6f6d-3c39-4e22-ba13-4e227cc34196 button.colab-df-convert');\n",
              "        buttonEl.style.display =\n",
              "          google.colab.kernel.accessAllowed ? 'block' : 'none';\n",
              "\n",
              "        async function convertToInteractive(key) {\n",
              "          const element = document.querySelector('#df-0ddb6f6d-3c39-4e22-ba13-4e227cc34196');\n",
              "          const dataTable =\n",
              "            await google.colab.kernel.invokeFunction('convertToInteractive',\n",
              "                                                     [key], {});\n",
              "          if (!dataTable) return;\n",
              "\n",
              "          const docLinkHtml = 'Like what you see? Visit the ' +\n",
              "            '<a target=\"_blank\" href=https://colab.research.google.com/notebooks/data_table.ipynb>data table notebook</a>'\n",
              "            + ' to learn more about interactive tables.';\n",
              "          element.innerHTML = '';\n",
              "          dataTable['output_type'] = 'display_data';\n",
              "          await google.colab.output.renderOutput(dataTable, element);\n",
              "          const docLink = document.createElement('div');\n",
              "          docLink.innerHTML = docLinkHtml;\n",
              "          element.appendChild(docLink);\n",
              "        }\n",
              "      </script>\n",
              "    </div>\n",
              "  </div>\n",
              "  "
            ]
          },
          "metadata": {},
          "execution_count": 5
        }
      ]
    },
    {
      "cell_type": "code",
      "metadata": {
        "colab": {
          "base_uri": "https://localhost:8080/"
        },
        "id": "abQX2gHg6k_u",
        "outputId": "baa3430f-225e-4447-b890-4b5fae135e95"
      },
      "source": [
        "# 데이터의 길이를 측정합니다. \n",
        "print(len(data)) # 10015\n",
        "\n",
        "# 데이터의 모양을 측정합니다.\n",
        "print(data.shape) # (10015, 2353) 아래로 10015길이, 오른쪽으로 2353 길이라는 뜻입니다. "
      ],
      "execution_count": 6,
      "outputs": [
        {
          "output_type": "stream",
          "name": "stdout",
          "text": [
            "10015\n",
            "(10015, 2353)\n"
          ]
        }
      ]
    },
    {
      "cell_type": "code",
      "metadata": {
        "id": "uKDKsgbI6vLI"
      },
      "source": [
        "# 데이터의 맨 오른쪽에 있는 label을 추출합니다. \n",
        "Label = data.iloc[:, -1] # data.iloc[:, 2352]해도 같은 결과를 낼 수 있습니다. \n",
        "\n",
        "# 데이터의 맨 오른쪽을 제외한 \n",
        "Data = data.iloc[:, 0:-1] # data.iloc[:, 0:2351] 해도 같은 결과를 낼 수 있습니다"
      ],
      "execution_count": 7,
      "outputs": []
    },
    {
      "cell_type": "code",
      "metadata": {
        "colab": {
          "base_uri": "https://localhost:8080/"
        },
        "id": "g6Q1ue3L-6dm",
        "outputId": "eb8b8e55-4a09-41ed-8615-fcbcc738846d"
      },
      "source": [
        "# 각각의 label(skin cancer의 유형)이 몇 개 있는지 출력합니다. \n",
        "Label.value_counts() # 우리의 데이터는 7개 유형의 피부암 사진과 그 레이블된 데이터 유형으로 이루어져 있습니다. "
      ],
      "execution_count": 8,
      "outputs": [
        {
          "output_type": "execute_result",
          "data": {
            "text/plain": [
              "4    6705\n",
              "6    1113\n",
              "2    1099\n",
              "1     514\n",
              "0     327\n",
              "5     142\n",
              "3     115\n",
              "Name: label, dtype: int64"
            ]
          },
          "metadata": {},
          "execution_count": 8
        }
      ]
    },
    {
      "cell_type": "code",
      "metadata": {
        "colab": {
          "base_uri": "https://localhost:8080/",
          "height": 283
        },
        "id": "-NdaC0mR_Gx5",
        "outputId": "35e31819-ce02-41f9-b27f-4ba128ee59eb"
      },
      "source": [
        "# 막대그래프로도 그릴 수 있습니다. \n",
        "Label.value_counts().plot.bar(color='green')"
      ],
      "execution_count": 10,
      "outputs": [
        {
          "output_type": "execute_result",
          "data": {
            "text/plain": [
              "<matplotlib.axes._subplots.AxesSubplot at 0x7f1ab0c6df10>"
            ]
          },
          "metadata": {},
          "execution_count": 10
        },
        {
          "output_type": "display_data",
          "data": {
            "text/plain": [
              "<Figure size 432x288 with 1 Axes>"
            ],
            "image/png": "[encoded data removed]"
          },
          "metadata": {
            "needs_background": "light"
          }
        }
      ]
    },
    {
      "cell_type": "code",
      "metadata": {
        "colab": {
          "base_uri": "https://localhost:8080/"
        },
        "id": "4BCl1O12_TDP",
        "outputId": "8c22334d-21af-4df2-b898-283d484f9629"
      },
      "source": [
        "# Data의 모습입니다. 실제로 값들은 이렇게 2차원 배열로 생겼습니다. \n",
        "print(Data.values)\n",
        "\n",
        "# 한 줄 띄기\n",
        "print('\\n')\n",
        "\n",
        "# Data는 DataFrame 자료형이지만, Data.values는 numpyarray입니다. \n",
        "print(type(Data), type(Data.values))"
      ],
      "execution_count": 11,
      "outputs": [
        {
          "output_type": "stream",
          "name": "stdout",
          "text": [
            "[[192 153 193 ... 185 154 177]\n",
            " [ 25  14  30 ...  25  14  27]\n",
            " [192 138 153 ... 136 104 117]\n",
            " ...\n",
            " [132 118 118 ... 172 151 145]\n",
            " [160 124 146 ... 185 162 172]\n",
            " [175 142 121 ... 175 139 126]]\n",
            "\n",
            "\n",
            "<class 'pandas.core.frame.DataFrame'> <class 'numpy.ndarray'>\n"
          ]
        }
      ]
    },
    {
      "cell_type": "markdown",
      "metadata": {
        "id": "GdEkq40ZE477"
      },
      "source": [
        "### 4. Data Pre-processing \n",
        "데이터를 가공하여 기계가 학습하기 쉽도록 만듭니다. input shape을 (28, 28, 3)으로 맞출 예정입니다. 또한, train과 test dataset을 split하여 학습에 이용할 예정입니다. 이 과정은 scikit-learn의 sklearn.model_selection.train_test_split 매서드를 이용하면 됩니다. \n",
        "\n",
        "(기존에 딥러닝/머신러닝을 공부해 보셨던 분들은 Validation dataset이 없다는 점에서 의문을 품으실 수 있지만, 우리는 어디까지나 딥러닝 코딩을 한 번 해보는 것이 목적이므로 넘어가겠습니다.)"
      ]
    },
    {
      "cell_type": "code",
      "metadata": {
        "colab": {
          "base_uri": "https://localhost:8080/"
        },
        "id": "mlU1sec_Dn2F",
        "outputId": "021d390e-b996-4972-8531-2e691f823a8f"
      },
      "source": [
        "# numpyarray로 Data를 바꿔줌. tensorflow는 pandas DataFrame자체는 못 먹고, ndarray로 변환해 줘야 먹을 수 있음. \n",
        "Data = Data.values.reshape(-1, 28, 28, 3) # Datashape을 주의해서 볼 것. 28x28x3의 모양이 10015개 있음. \n",
        "\n",
        "Label = Label.values.reshape(-1) # 일차원 배열로 바꿔줌. \n",
        "print(Data[0, :, :])\n",
        "print('\\n---------------------------------------\\n')\n",
        "print(Label)"
      ],
      "execution_count": 12,
      "outputs": [
        {
          "output_type": "stream",
          "name": "stdout",
          "text": [
            "[[[192 153 193]\n",
            "  [195 155 192]\n",
            "  [197 154 185]\n",
            "  ...\n",
            "  [193 144 153]\n",
            "  [197 154 163]\n",
            "  [194 152 160]]\n",
            "\n",
            " [[197 162 202]\n",
            "  [201 160 197]\n",
            "  [202 160 193]\n",
            "  ...\n",
            "  [194 147 149]\n",
            "  [198 158 166]\n",
            "  [192 153 167]]\n",
            "\n",
            " [[197 155 193]\n",
            "  [198 154 185]\n",
            "  [202 156 191]\n",
            "  ...\n",
            "  [194 149 152]\n",
            "  [199 161 177]\n",
            "  [194 156 175]]\n",
            "\n",
            " ...\n",
            "\n",
            " [[194 157 191]\n",
            "  [206 173 206]\n",
            "  [206 165 192]\n",
            "  ...\n",
            "  [191 155 183]\n",
            "  [193 159 187]\n",
            "  [193 163 197]]\n",
            "\n",
            " [[187 154 185]\n",
            "  [203 171 199]\n",
            "  [202 161 183]\n",
            "  ...\n",
            "  [178 131 148]\n",
            "  [187 152 174]\n",
            "  [190 159 189]]\n",
            "\n",
            " [[171 136 164]\n",
            "  [191 153 179]\n",
            "  [196 155 176]\n",
            "  ...\n",
            "  [173 124 138]\n",
            "  [183 147 166]\n",
            "  [185 154 177]]]\n",
            "\n",
            "---------------------------------------\n",
            "\n",
            "[2 2 2 ... 0 0 6]\n"
          ]
        }
      ]
    },
    {
      "cell_type": "code",
      "metadata": {
        "colab": {
          "base_uri": "https://localhost:8080/"
        },
        "id": "VaTMueYPpUtg",
        "outputId": "987b256a-d5e9-4286-f13c-75b6acb96c95"
      },
      "source": [
        "# sklearn.preprocessing 모듈을 이용해 Label을 one-hot encoding으로 만드는 작업. one-hot encoding에 대해서는 프리뷰 자료 참조할 것\n",
        "from sklearn.preprocessing import LabelBinarizer\n",
        "binencoder = LabelBinarizer() # 파이썬 언어의 특징. 객체 지향 언어인 파이썬에서는 뒤에 ()를 붙이면 함수 또는 클래스, 안 붙이면 그냥 매서드임. \n",
        "Label = binencoder.fit_transform(Label) # \n",
        "print(Label)"
      ],
      "execution_count": 13,
      "outputs": [
        {
          "output_type": "stream",
          "name": "stdout",
          "text": [
            "[[0 0 1 ... 0 0 0]\n",
            " [0 0 1 ... 0 0 0]\n",
            " [0 0 1 ... 0 0 0]\n",
            " ...\n",
            " [1 0 0 ... 0 0 0]\n",
            " [1 0 0 ... 0 0 0]\n",
            " [0 0 0 ... 0 0 1]]\n"
          ]
        }
      ]
    },
    {
      "cell_type": "code",
      "metadata": {
        "colab": {
          "base_uri": "https://localhost:8080/",
          "height": 339
        },
        "id": "f82ZxJSzq-kx",
        "outputId": "8e2f95c7-e968-42ff-aed4-53209b027eed"
      },
      "source": [
        "# 피부암 이미지를 보자. 사실 EDA 에 속하긴 하지만 그래도 꼭 봐야 하기 때문에 괜찮다\n",
        "plt.figure(dpi=100) # 이미지의 크기를 지정\n",
        "for i in range(9):\n",
        "  plt.subplot(3, 3, i+1).axis('off')\n",
        "  plt.imshow(Data[i])"
      ],
      "execution_count": 14,
      "outputs": [
        {
          "output_type": "display_data",
          "data": {
            "text/plain": [
              "<Figure size 600x400 with 9 Axes>"
            ],
            "image/png": "[encoded data removed]"
          },
          "metadata": {
            "needs_background": "light"
          }
        }
      ]
    },
    {
      "cell_type": "code",
      "metadata": {
        "id": "FnneftS3m0mc"
      },
      "source": [
        "# 위에서 언급했던 train data와 test data의 split을 시행합니다. \n",
        "from sklearn.model_selection import train_test_split\n",
        "X_train, X_test, y_train, y_test = train_test_split(Data, Label, test_size=0.2, random_state=33)"
      ],
      "execution_count": 15,
      "outputs": []
    },
    {
      "cell_type": "code",
      "metadata": {
        "colab": {
          "base_uri": "https://localhost:8080/"
        },
        "id": "hCf777FlobLU",
        "outputId": "7be15f6d-34cf-4fe9-aee6-21b08664d466"
      },
      "source": [
        "# train과 test의 split된 형태를 확인해 봅니다. \n",
        "print(X_train.shape, y_train.shape)\n",
        "print(X_test.shape, y_test.shape)"
      ],
      "execution_count": 16,
      "outputs": [
        {
          "output_type": "stream",
          "name": "stdout",
          "text": [
            "(8012, 28, 28, 3) (8012, 7)\n",
            "(2003, 28, 28, 3) (2003, 7)\n"
          ]
        }
      ]
    },
    {
      "cell_type": "code",
      "metadata": {
        "id": "5a7QOvuz3dBq"
      },
      "source": [
        "# Deep learning에서 backpropagation이 일어날 때 자동미분이 일어나기 때문에 값이 큰 것 보다는 정규화되어 있는 것이 유리합니다. \n",
        "# 따라서 input data들을 255로 나눠 정규화해 줍니다. \n",
        "X_train, X_test = X_train / 255, X_test / 255\n",
        "\n",
        "# 딥러닝과 머신러닝에서는 input data의 shape가 중요하기 때문에 집어넣기 전 마지막으로 shape를 확인해 주는 것이 좋습니다. \n",
        "X_train = X_train.reshape(-1, 28, 28, 3).astype(np.float32)\n",
        "X_test = X_test.reshape(-1, 28, 28, 3).astype(np.float32)"
      ],
      "execution_count": 17,
      "outputs": []
    },
    {
      "cell_type": "markdown",
      "metadata": {
        "id": "11pqwphU37xZ"
      },
      "source": [
        "### 5. Building Neural Network\n",
        "드디어 신경망을 쌓아봅시다! 저희는 이제부터 두 개의 신경망(MLP, CNN)을 쌓고 성능을 비교해 볼 겁니다. "
      ]
    },
    {
      "cell_type": "code",
      "metadata": {
        "id": "iR3NxFpt3zax"
      },
      "source": [
        "def MLP(input_shape=(None, None, 3), dropout_rate=0.2):\n",
        "  model = tf.keras.models.Sequential()\n",
        "  model.add(tf.keras.layers.Flatten(input_shape=input_shape))\n",
        "  model.add(tf.keras.layers.Dense(units=400, activation='relu'))\n",
        "  model.add(tf.keras.layers.Dropout(dropout_rate))\n",
        "  model.add(tf.keras.layers.Dense(units=100, activation='relu'))\n",
        "  model.add(tf.keras.layers.Dense(units=7, activation='relu'))\n",
        "  \n",
        "  model.compile(optimizer='adam', loss='categorical_crossentropy', metrics=['acc'])\n",
        "\n",
        "  return model"
      ],
      "execution_count": 18,
      "outputs": []
    },
    {
      "cell_type": "code",
      "metadata": {
        "id": "iUyOaAC52887"
      },
      "source": [
        "def CNN(input_shape=(None, None, 3), dropout_rate=0.2):\n",
        "  model = tf.keras.models.Sequential()\n",
        "  model.add(tf.keras.layers.Conv2D(filters=128, kernel_size=(2, 2), input_shape=input_shape, activation='relu'))\n",
        "  model.add(tf.keras.layers.Conv2D(filters=256, kernel_size=(2, 2), activation='relu'))\n",
        "  model.add(tf.keras.layers.MaxPooling2D(pool_size=(2, 2)))\n",
        "  model.add(tf.keras.layers.Flatten())\n",
        "  model.add(tf.keras.layers.Dropout(dropout_rate))\n",
        "  model.add(tf.keras.layers.Dense(units=7, activation='relu'))\n",
        "\n",
        "  model.compile(optimizer='adam', loss='categorical_crossentropy', metrics=['acc'])\n",
        "\n",
        "  return model"
      ],
      "execution_count": 19,
      "outputs": []
    },
    {
      "cell_type": "code",
      "metadata": {
        "id": "JSHzae0iz4Sa"
      },
      "source": [
        "model_MLP = MLP(input_shape = (28, 28, 3))"
      ],
      "execution_count": 20,
      "outputs": []
    },
    {
      "cell_type": "code",
      "metadata": {
        "colab": {
          "base_uri": "https://localhost:8080/",
          "height": 789
        },
        "id": "EBqNAlyO0GnI",
        "outputId": "29912c45-4e1b-4ecf-c36e-4675707dcf12"
      },
      "source": [
        "model_MLP.summary()\n",
        "tf.keras.utils.plot_model(model_MLP, show_shapes = True, dpi=64)"
      ],
      "execution_count": 21,
      "outputs": [
        {
          "output_type": "stream",
          "name": "stdout",
          "text": [
            "Model: \"sequential\"\n",
            "_________________________________________________________________\n",
            " Layer (type)                Output Shape              Param #   \n",
            "=================================================================\n",
            " flatten (Flatten)           (None, 2352)              0         \n",
            "                                                                 \n",
            " dense (Dense)               (None, 400)               941200    \n",
            "                                                                 \n",
            " dropout (Dropout)           (None, 400)               0         \n",
            "                                                                 \n",
            " dense_1 (Dense)             (None, 100)               40100     \n",
            "                                                                 \n",
            " dense_2 (Dense)             (None, 7)                 707       \n",
            "                                                                 \n",
            "=================================================================\n",
            "Total params: 982,007\n",
            "Trainable params: 982,007\n",
            "Non-trainable params: 0\n",
            "_________________________________________________________________\n"
          ]
        },
        {
          "output_type": "execute_result",
          "data": {
            "image/png": "[encoded data removed]",
            "text/plain": [
              "<IPython.core.display.Image object>"
            ]
          },
          "metadata": {},
          "execution_count": 21
        }
      ]
    },
    {
      "cell_type": "code",
      "metadata": {
        "id": "96wJQ5AX0cFc"
      },
      "source": [
        "model_CNN = CNN(input_shape=(28, 28, 3))"
      ],
      "execution_count": 22,
      "outputs": []
    },
    {
      "cell_type": "code",
      "metadata": {
        "colab": {
          "base_uri": "https://localhost:8080/",
          "height": 919
        },
        "id": "-TTDqnUE5BI9",
        "outputId": "ead37b0f-bd1f-4a42-83f0-49fabca65dae"
      },
      "source": [
        "model_CNN.summary()\n",
        "tf.keras.utils.plot_model(model_CNN, show_shapes=True, dpi=64)"
      ],
      "execution_count": 23,
      "outputs": [
        {
          "output_type": "stream",
          "name": "stdout",
          "text": [
            "Model: \"sequential_1\"\n",
            "_________________________________________________________________\n",
            " Layer (type)                Output Shape              Param #   \n",
            "=================================================================\n",
            " conv2d (Conv2D)             (None, 27, 27, 128)       1664      \n",
            "                                                                 \n",
            " conv2d_1 (Conv2D)           (None, 26, 26, 256)       131328    \n",
            "                                                                 \n",
            " max_pooling2d (MaxPooling2D  (None, 13, 13, 256)      0         \n",
            " )                                                               \n",
            "                                                                 \n",
            " flatten_1 (Flatten)         (None, 43264)             0         \n",
            "                                                                 \n",
            " dropout_1 (Dropout)         (None, 43264)             0         \n",
            "                                                                 \n",
            " dense_3 (Dense)             (None, 7)                 302855    \n",
            "                                                                 \n",
            "=================================================================\n",
            "Total params: 435,847\n",
            "Trainable params: 435,847\n",
            "Non-trainable params: 0\n",
            "_________________________________________________________________\n"
          ]
        },
        {
          "output_type": "execute_result",
          "data": {
            "image/png": "[encoded data removed]",
            "text/plain": [
              "<IPython.core.display.Image object>"
            ]
          },
          "metadata": {},
          "execution_count": 23
        }
      ]
    },
    {
      "cell_type": "markdown",
      "metadata": {
        "id": "lpdUdjkj8AAi"
      },
      "source": [
        "### 6. 신경망 학습\n",
        "드디어 신경망이 학습합니다. 런타임을 GPU로 설정하면 훨씬 빠르게 학습할 수 있습니다. CNN이 파라미터의 수가 훨씬 많은 만큼, 학습에 더 오랜 시간이 걸립니다. "
      ]
    },
    {
      "cell_type": "code",
      "metadata": {
        "colab": {
          "base_uri": "https://localhost:8080/"
        },
        "id": "qMMQ7P9Z5NZu",
        "outputId": "658e2fda-7b80-439f-bfee-88fd899ccac1"
      },
      "source": [
        "print(\"MLP\")\n",
        "history_MLP = model_MLP.fit(X_train, y_train, epochs=15, verbose=1)\n",
        "print(\"\\nCNN\")\n",
        "history_CNN = model_CNN.fit(X_train, y_train, epochs=15, verbose=1)"
      ],
      "execution_count": 24,
      "outputs": [
        {
          "output_type": "stream",
          "name": "stdout",
          "text": [
            "MLP\n",
            "Epoch 1/15\n",
            "251/251 [==============================] - 3s 3ms/step - loss: 3.0348 - acc: 0.6254\n",
            "Epoch 2/15\n",
            "251/251 [==============================] - 1s 3ms/step - loss: 2.3388 - acc: 0.6736\n",
            "Epoch 3/15\n",
            "251/251 [==============================] - 1s 3ms/step - loss: 2.3191 - acc: 0.6736\n",
            "Epoch 4/15\n",
            "251/251 [==============================] - 1s 3ms/step - loss: 2.3066 - acc: 0.6736\n",
            "Epoch 5/15\n",
            "251/251 [==============================] - 1s 3ms/step - loss: 2.3499 - acc: 0.6648\n",
            "Epoch 6/15\n",
            "251/251 [==============================] - 1s 3ms/step - loss: 2.3243 - acc: 0.6736\n",
            "Epoch 7/15\n",
            "251/251 [==============================] - 1s 3ms/step - loss: 2.3051 - acc: 0.6736\n",
            "Epoch 8/15\n",
            "251/251 [==============================] - 1s 3ms/step - loss: 2.3695 - acc: 0.6730\n",
            "Epoch 9/15\n",
            "251/251 [==============================] - 1s 3ms/step - loss: 2.3234 - acc: 0.6736\n",
            "Epoch 10/15\n",
            "251/251 [==============================] - 1s 3ms/step - loss: 2.1302 - acc: 0.6732\n",
            "Epoch 11/15\n",
            "251/251 [==============================] - 1s 3ms/step - loss: 1.7526 - acc: 0.6736\n",
            "Epoch 12/15\n",
            "251/251 [==============================] - 1s 3ms/step - loss: 1.7371 - acc: 0.6736\n",
            "Epoch 13/15\n",
            "251/251 [==============================] - 1s 3ms/step - loss: 1.7073 - acc: 0.6736\n",
            "Epoch 14/15\n",
            "251/251 [==============================] - 1s 3ms/step - loss: 1.7102 - acc: 0.6736\n",
            "Epoch 15/15\n",
            "251/251 [==============================] - 1s 3ms/step - loss: 1.6886 - acc: 0.6736\n",
            "\n",
            "CNN\n",
            "Epoch 1/15\n",
            "251/251 [==============================] - 9s 9ms/step - loss: 5.2613 - acc: 0.6732\n",
            "Epoch 2/15\n",
            "251/251 [==============================] - 2s 9ms/step - loss: 5.2607 - acc: 0.6736\n",
            "Epoch 3/15\n",
            "251/251 [==============================] - 2s 9ms/step - loss: 5.2607 - acc: 0.6736\n",
            "Epoch 4/15\n",
            "251/251 [==============================] - 2s 9ms/step - loss: 5.2607 - acc: 0.6736\n",
            "Epoch 5/15\n",
            "251/251 [==============================] - 2s 9ms/step - loss: 5.2607 - acc: 0.6736\n",
            "Epoch 6/15\n",
            "251/251 [==============================] - 2s 9ms/step - loss: 5.2607 - acc: 0.6736\n",
            "Epoch 7/15\n",
            "251/251 [==============================] - 2s 9ms/step - loss: 5.2607 - acc: 0.6736\n",
            "Epoch 8/15\n",
            "251/251 [==============================] - 2s 9ms/step - loss: 5.2607 - acc: 0.6736\n",
            "Epoch 9/15\n",
            "251/251 [==============================] - 2s 9ms/step - loss: 5.2607 - acc: 0.6736\n",
            "Epoch 10/15\n",
            "251/251 [==============================] - 2s 9ms/step - loss: 5.2607 - acc: 0.6736\n",
            "Epoch 11/15\n",
            "251/251 [==============================] - 2s 9ms/step - loss: 5.2607 - acc: 0.6736\n",
            "Epoch 12/15\n",
            "251/251 [==============================] - 2s 9ms/step - loss: 5.2607 - acc: 0.6736\n",
            "Epoch 13/15\n",
            "251/251 [==============================] - 3s 10ms/step - loss: 5.2607 - acc: 0.6736\n",
            "Epoch 14/15\n",
            "251/251 [==============================] - 3s 11ms/step - loss: 5.2607 - acc: 0.6736\n",
            "Epoch 15/15\n",
            "251/251 [==============================] - 2s 9ms/step - loss: 5.2607 - acc: 0.6736\n"
          ]
        }
      ]
    },
    {
      "cell_type": "code",
      "metadata": {
        "colab": {
          "base_uri": "https://localhost:8080/",
          "height": 284
        },
        "id": "p93py8JD57xl",
        "outputId": "d8c23620-7c68-4c80-fa41-f4314d1c0d73"
      },
      "source": [
        "history_MLP_df = pd.DataFrame(history_MLP.history)\n",
        "history_MLP_df.loc[:, ['acc']].plot()"
      ],
      "execution_count": 25,
      "outputs": [
        {
          "output_type": "execute_result",
          "data": {
            "text/plain": [
              "<matplotlib.axes._subplots.AxesSubplot at 0x7f1ab5efcf40>"
            ]
          },
          "metadata": {},
          "execution_count": 25
        },
        {
          "output_type": "display_data",
          "data": {
            "text/plain": [
              "<Figure size 432x288 with 1 Axes>"
            ],
            "image/png": "[encoded data removed]"
          },
          "metadata": {
            "needs_background": "light"
          }
        }
      ]
    },
    {
      "cell_type": "code",
      "metadata": {
        "colab": {
          "base_uri": "https://localhost:8080/",
          "height": 284
        },
        "id": "6RNEEDVz7Kkm",
        "outputId": "4221e069-bc31-492f-a8eb-42be1d6f74e4"
      },
      "source": [
        "history_CNN_df = pd.DataFrame(history_CNN.history)\n",
        "history_CNN_df.loc[:, ['acc']].plot()"
      ],
      "execution_count": 26,
      "outputs": [
        {
          "output_type": "execute_result",
          "data": {
            "text/plain": [
              "<matplotlib.axes._subplots.AxesSubplot at 0x7f1ab5dd8e50>"
            ]
          },
          "metadata": {},
          "execution_count": 26
        },
        {
          "output_type": "display_data",
          "data": {
            "text/plain": [
              "<Figure size 432x288 with 1 Axes>"
            ],
            "image/png": "[encoded data removed]"
          },
          "metadata": {
            "needs_background": "light"
          }
        }
      ]
    },
    {
      "cell_type": "code",
      "metadata": {
        "id": "8uSMGKfk7aaJ"
      },
      "source": [
        "model_MLP.evaluate()\n",
        "model_CNN.evaluate()"
      ],
      "execution_count": null,
      "outputs": []
    }
  ]
}